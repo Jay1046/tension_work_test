{
 "cells": [
  {
   "cell_type": "code",
   "execution_count": 1,
   "metadata": {},
   "outputs": [],
   "source": [
    "from db.conn import DBConnector\n",
    "from db.controller import *\n",
    "from db.queries import query\n",
    "\n",
    "\n",
    "from lib.load import load_audio_df, merge_status\n",
    "from lib import speech_status, formal_status, pause_time_status, vol_corr_status\n",
    "\n",
    "from configs import DB_info\n",
    "\n",
    "import warnings\n",
    "warnings.filterwarnings(action=\"ignore\")"
   ]
  },
  {
   "cell_type": "markdown",
   "metadata": {},
   "source": [
    "---\n",
    "## 1. LOAD"
   ]
  },
  {
   "cell_type": "code",
   "execution_count": 2,
   "metadata": {},
   "outputs": [
    {
     "data": {
      "text/html": [
       "<div>\n",
       "<style scoped>\n",
       "    .dataframe tbody tr th:only-of-type {\n",
       "        vertical-align: middle;\n",
       "    }\n",
       "\n",
       "    .dataframe tbody tr th {\n",
       "        vertical-align: top;\n",
       "    }\n",
       "\n",
       "    .dataframe thead th {\n",
       "        text-align: right;\n",
       "    }\n",
       "</style>\n",
       "<table border=\"1\" class=\"dataframe\">\n",
       "  <thead>\n",
       "    <tr style=\"text-align: right;\">\n",
       "      <th></th>\n",
       "      <th>lecture</th>\n",
       "      <th>word</th>\n",
       "      <th>time_start</th>\n",
       "      <th>time_end</th>\n",
       "      <th>size</th>\n",
       "      <th>pitch_avg</th>\n",
       "    </tr>\n",
       "  </thead>\n",
       "  <tbody>\n",
       "    <tr>\n",
       "      <th>0</th>\n",
       "      <td>중학_밀크티_과학</td>\n",
       "      <td>&lt;eps&gt;</td>\n",
       "      <td>0</td>\n",
       "      <td>14280</td>\n",
       "      <td>1971.360</td>\n",
       "      <td>89.77</td>\n",
       "    </tr>\n",
       "    <tr>\n",
       "      <th>1</th>\n",
       "      <td>중학_밀크티_과학</td>\n",
       "      <td>과연</td>\n",
       "      <td>14280</td>\n",
       "      <td>14760</td>\n",
       "      <td>2482.490</td>\n",
       "      <td>261.78</td>\n",
       "    </tr>\n",
       "    <tr>\n",
       "      <th>2</th>\n",
       "      <td>중학_밀크티_과학</td>\n",
       "      <td>&lt;eps&gt;</td>\n",
       "      <td>14760</td>\n",
       "      <td>15090</td>\n",
       "      <td>288.030</td>\n",
       "      <td>233.17</td>\n",
       "    </tr>\n",
       "    <tr>\n",
       "      <th>3</th>\n",
       "      <td>중학_밀크티_과학</td>\n",
       "      <td>이</td>\n",
       "      <td>15090</td>\n",
       "      <td>15240</td>\n",
       "      <td>941.479</td>\n",
       "      <td>165.96</td>\n",
       "    </tr>\n",
       "    <tr>\n",
       "      <th>4</th>\n",
       "      <td>중학_밀크티_과학</td>\n",
       "      <td>디엔에이는</td>\n",
       "      <td>15240</td>\n",
       "      <td>16140</td>\n",
       "      <td>1982.640</td>\n",
       "      <td>228.65</td>\n",
       "    </tr>\n",
       "  </tbody>\n",
       "</table>\n",
       "</div>"
      ],
      "text/plain": [
       "     lecture   word  time_start  time_end      size  pitch_avg\n",
       "0  중학_밀크티_과학  <eps>           0     14280  1971.360      89.77\n",
       "1  중학_밀크티_과학     과연       14280     14760  2482.490     261.78\n",
       "2  중학_밀크티_과학  <eps>       14760     15090   288.030     233.17\n",
       "3  중학_밀크티_과학      이       15090     15240   941.479     165.96\n",
       "4  중학_밀크티_과학  디엔에이는       15240     16140  1982.640     228.65"
      ]
     },
     "execution_count": 2,
     "metadata": {},
     "output_type": "execute_result"
    }
   ],
   "source": [
    "df_audio = load_audio_df(\"./Data/초중등_브랜드별_영상_피치정보_최종_20230718.xlsx\")\n",
    "df_audio.head()"
   ]
  },
  {
   "cell_type": "code",
   "execution_count": 3,
   "metadata": {},
   "outputs": [
    {
     "name": "stdout",
     "output_type": "stream",
     "text": [
      "Table Created\n"
     ]
    }
   ],
   "source": [
    "# Input source\n",
    "rdb_cursor_create(\n",
    "    db_connector = DBConnector(**DB_info[\"localhost_rdb_source\"]), \n",
    "    _query = query[\"create\"][\"input\"])"
   ]
  },
  {
   "cell_type": "code",
   "execution_count": 4,
   "metadata": {},
   "outputs": [
    {
     "name": "stdout",
     "output_type": "stream",
     "text": [
      "Table Created\n"
     ]
    }
   ],
   "source": [
    "# Output source\n",
    "rdb_cursor_create(\n",
    "    db_connector = DBConnector(**DB_info[\"localhost_rdb_target\"]),\n",
    "    _query = query[\"create\"][\"output\"]\n",
    ")"
   ]
  },
  {
   "cell_type": "code",
   "execution_count": 5,
   "metadata": {},
   "outputs": [
    {
     "name": "stdout",
     "output_type": "stream",
     "text": [
      "Load completed\n"
     ]
    }
   ],
   "source": [
    "rdb_pandas_loader(\n",
    "    db_connector = DBConnector(**DB_info[\"localhost_rdb_source\"]),\n",
    "    _name = \"lectures\",\n",
    "    df = df_audio\n",
    "    )"
   ]
  },
  {
   "cell_type": "markdown",
   "metadata": {},
   "source": [
    "---\n",
    "### 2. Extract"
   ]
  },
  {
   "cell_type": "code",
   "execution_count": 6,
   "metadata": {},
   "outputs": [],
   "source": [
    "df_audio = rdb_pandas_extractor(\n",
    "    db_connector = DBConnector(**DB_info[\"localhost_rdb_source\"]),\n",
    "    _query = query[\"select\"][\"all\"]\n",
    ")"
   ]
  },
  {
   "cell_type": "code",
   "execution_count": 7,
   "metadata": {},
   "outputs": [
    {
     "data": {
      "text/html": [
       "<div>\n",
       "<style scoped>\n",
       "    .dataframe tbody tr th:only-of-type {\n",
       "        vertical-align: middle;\n",
       "    }\n",
       "\n",
       "    .dataframe tbody tr th {\n",
       "        vertical-align: top;\n",
       "    }\n",
       "\n",
       "    .dataframe thead th {\n",
       "        text-align: right;\n",
       "    }\n",
       "</style>\n",
       "<table border=\"1\" class=\"dataframe\">\n",
       "  <thead>\n",
       "    <tr style=\"text-align: right;\">\n",
       "      <th></th>\n",
       "      <th>lecture</th>\n",
       "      <th>word</th>\n",
       "      <th>time_start</th>\n",
       "      <th>time_end</th>\n",
       "      <th>size</th>\n",
       "      <th>pitch_avg</th>\n",
       "    </tr>\n",
       "  </thead>\n",
       "  <tbody>\n",
       "    <tr>\n",
       "      <th>0</th>\n",
       "      <td>중학_밀크티_과학</td>\n",
       "      <td>&lt;eps&gt;</td>\n",
       "      <td>0</td>\n",
       "      <td>14280</td>\n",
       "      <td>1971.360</td>\n",
       "      <td>89.77</td>\n",
       "    </tr>\n",
       "    <tr>\n",
       "      <th>1</th>\n",
       "      <td>중학_밀크티_과학</td>\n",
       "      <td>과연</td>\n",
       "      <td>14280</td>\n",
       "      <td>14760</td>\n",
       "      <td>2482.490</td>\n",
       "      <td>261.78</td>\n",
       "    </tr>\n",
       "    <tr>\n",
       "      <th>2</th>\n",
       "      <td>중학_밀크티_과학</td>\n",
       "      <td>&lt;eps&gt;</td>\n",
       "      <td>14760</td>\n",
       "      <td>15090</td>\n",
       "      <td>288.030</td>\n",
       "      <td>233.17</td>\n",
       "    </tr>\n",
       "    <tr>\n",
       "      <th>3</th>\n",
       "      <td>중학_밀크티_과학</td>\n",
       "      <td>이</td>\n",
       "      <td>15090</td>\n",
       "      <td>15240</td>\n",
       "      <td>941.479</td>\n",
       "      <td>165.96</td>\n",
       "    </tr>\n",
       "    <tr>\n",
       "      <th>4</th>\n",
       "      <td>중학_밀크티_과학</td>\n",
       "      <td>디엔에이는</td>\n",
       "      <td>15240</td>\n",
       "      <td>16140</td>\n",
       "      <td>1982.640</td>\n",
       "      <td>228.65</td>\n",
       "    </tr>\n",
       "  </tbody>\n",
       "</table>\n",
       "</div>"
      ],
      "text/plain": [
       "     lecture   word  time_start  time_end      size  pitch_avg\n",
       "0  중학_밀크티_과학  <eps>           0     14280  1971.360      89.77\n",
       "1  중학_밀크티_과학     과연       14280     14760  2482.490     261.78\n",
       "2  중학_밀크티_과학  <eps>       14760     15090   288.030     233.17\n",
       "3  중학_밀크티_과학      이       15090     15240   941.479     165.96\n",
       "4  중학_밀크티_과학  디엔에이는       15240     16140  1982.640     228.65"
      ]
     },
     "execution_count": 7,
     "metadata": {},
     "output_type": "execute_result"
    }
   ],
   "source": [
    "df_audio.head()"
   ]
  },
  {
   "cell_type": "code",
   "execution_count": null,
   "metadata": {},
   "outputs": [],
   "source": []
  },
  {
   "cell_type": "code",
   "execution_count": null,
   "metadata": {},
   "outputs": [],
   "source": []
  },
  {
   "cell_type": "markdown",
   "metadata": {},
   "source": [
    "---\n",
    "### 3. Get outputs"
   ]
  },
  {
   "cell_type": "code",
   "execution_count": 8,
   "metadata": {},
   "outputs": [
    {
     "name": "stderr",
     "output_type": "stream",
     "text": [
      "[Kss]: Oh! You have konlpy.tag.Mecab in your environment. Kss will take this as a backend! :D\n",
      "\n"
     ]
    },
    {
     "name": "stderr",
     "output_type": "stream",
     "text": [
      "[Kss]: WARNING[XFORMERS]: xFormers can't load C++/CUDA extensions. xFormers was built for:\n",
      "    PyTorch 2.0.1+cu118 with CUDA 1108 (you have 2.0.1+cpu)\n",
      "    Python  3.10.11 (you have 3.10.11)\n",
      "  Please reinstall xformers (see https://github.com/facebookresearch/xformers#installing-xformers)\n",
      "  Memory-efficient attention, SwiGLU, sparse and more won't be available.\n",
      "  Set XFORMERS_MORE_DETAILS=1 for more details\n"
     ]
    }
   ],
   "source": [
    "df_speech_status = speech_status.get_speech_status(df_audio)\n",
    "df_formal_status = formal_status.get_formal_status(df_audio)\n",
    "df_pause_time_status = pause_time_status.get_pause_time_status(df_audio)\n",
    "df_vol_corr_status = vol_corr_status.get_vol_corr_status(df_audio)\n",
    "\n",
    "df_mid_status = merge_status(\n",
    "    df_speech_status = df_speech_status,\n",
    "    df_formal_status = df_formal_status,\n",
    "    df_pause_time_status = df_pause_time_status,\n",
    "    df_vol_corr_status = df_vol_corr_status,\n",
    "    target=\"middle\"\n",
    ")\n",
    "\n",
    "df_ele_status = merge_status(\n",
    "    df_speech_status = df_speech_status,\n",
    "    df_formal_status = df_formal_status,\n",
    "    df_pause_time_status = df_pause_time_status,\n",
    "    df_vol_corr_status = df_vol_corr_status,\n",
    "    target=\"element\"\n",
    ")"
   ]
  },
  {
   "cell_type": "code",
   "execution_count": 9,
   "metadata": {},
   "outputs": [
    {
     "data": {
      "text/html": [
       "<div>\n",
       "<style scoped>\n",
       "    .dataframe tbody tr th:only-of-type {\n",
       "        vertical-align: middle;\n",
       "    }\n",
       "\n",
       "    .dataframe tbody tr th {\n",
       "        vertical-align: top;\n",
       "    }\n",
       "\n",
       "    .dataframe thead th {\n",
       "        text-align: right;\n",
       "    }\n",
       "</style>\n",
       "<table border=\"1\" class=\"dataframe\">\n",
       "  <thead>\n",
       "    <tr style=\"text-align: right;\">\n",
       "      <th></th>\n",
       "      <th>lecture</th>\n",
       "      <th>MilkT_speech_amt</th>\n",
       "      <th>MilkT_speech_spd</th>\n",
       "      <th>MilkT_formal_prop</th>\n",
       "      <th>MilkT_pause_length</th>\n",
       "      <th>MilkT_vol_corr</th>\n",
       "      <th>Compare_speech_amt</th>\n",
       "      <th>Compare_speech_spd</th>\n",
       "      <th>Compare_formal_prop</th>\n",
       "      <th>Compare_pause_length</th>\n",
       "      <th>Compare_vol_corr</th>\n",
       "    </tr>\n",
       "  </thead>\n",
       "  <tbody>\n",
       "    <tr>\n",
       "      <th>0</th>\n",
       "      <td>과학</td>\n",
       "      <td>7.319113</td>\n",
       "      <td>6.309032</td>\n",
       "      <td>0.857143</td>\n",
       "      <td>445.859729</td>\n",
       "      <td>0.371204</td>\n",
       "      <td>9.521920</td>\n",
       "      <td>7.733328</td>\n",
       "      <td>0.500000</td>\n",
       "      <td>364.615385</td>\n",
       "      <td>0.535215</td>\n",
       "    </tr>\n",
       "    <tr>\n",
       "      <th>1</th>\n",
       "      <td>국어</td>\n",
       "      <td>11.086913</td>\n",
       "      <td>5.660231</td>\n",
       "      <td>0.910714</td>\n",
       "      <td>513.644252</td>\n",
       "      <td>0.422222</td>\n",
       "      <td>10.562218</td>\n",
       "      <td>6.058137</td>\n",
       "      <td>0.833333</td>\n",
       "      <td>483.029703</td>\n",
       "      <td>0.327992</td>\n",
       "    </tr>\n",
       "    <tr>\n",
       "      <th>2</th>\n",
       "      <td>사회</td>\n",
       "      <td>11.773064</td>\n",
       "      <td>6.239173</td>\n",
       "      <td>0.896552</td>\n",
       "      <td>463.913043</td>\n",
       "      <td>0.004932</td>\n",
       "      <td>6.379277</td>\n",
       "      <td>7.018284</td>\n",
       "      <td>0.727273</td>\n",
       "      <td>423.362069</td>\n",
       "      <td>0.256102</td>\n",
       "    </tr>\n",
       "    <tr>\n",
       "      <th>3</th>\n",
       "      <td>수학</td>\n",
       "      <td>14.449985</td>\n",
       "      <td>5.806441</td>\n",
       "      <td>0.901408</td>\n",
       "      <td>473.250000</td>\n",
       "      <td>0.198515</td>\n",
       "      <td>9.935742</td>\n",
       "      <td>6.833984</td>\n",
       "      <td>0.826087</td>\n",
       "      <td>394.219235</td>\n",
       "      <td>0.403711</td>\n",
       "    </tr>\n",
       "    <tr>\n",
       "      <th>4</th>\n",
       "      <td>영어</td>\n",
       "      <td>13.587508</td>\n",
       "      <td>6.381560</td>\n",
       "      <td>0.761194</td>\n",
       "      <td>428.375912</td>\n",
       "      <td>0.256206</td>\n",
       "      <td>9.685230</td>\n",
       "      <td>6.353318</td>\n",
       "      <td>0.891304</td>\n",
       "      <td>408.483871</td>\n",
       "      <td>0.495165</td>\n",
       "    </tr>\n",
       "  </tbody>\n",
       "</table>\n",
       "</div>"
      ],
      "text/plain": [
       "  lecture  MilkT_speech_amt  MilkT_speech_spd  MilkT_formal_prop  \\\n",
       "0      과학          7.319113          6.309032           0.857143   \n",
       "1      국어         11.086913          5.660231           0.910714   \n",
       "2      사회         11.773064          6.239173           0.896552   \n",
       "3      수학         14.449985          5.806441           0.901408   \n",
       "4      영어         13.587508          6.381560           0.761194   \n",
       "\n",
       "   MilkT_pause_length  MilkT_vol_corr  Compare_speech_amt  Compare_speech_spd  \\\n",
       "0          445.859729        0.371204            9.521920            7.733328   \n",
       "1          513.644252        0.422222           10.562218            6.058137   \n",
       "2          463.913043        0.004932            6.379277            7.018284   \n",
       "3          473.250000        0.198515            9.935742            6.833984   \n",
       "4          428.375912        0.256206            9.685230            6.353318   \n",
       "\n",
       "   Compare_formal_prop  Compare_pause_length  Compare_vol_corr  \n",
       "0             0.500000            364.615385          0.535215  \n",
       "1             0.833333            483.029703          0.327992  \n",
       "2             0.727273            423.362069          0.256102  \n",
       "3             0.826087            394.219235          0.403711  \n",
       "4             0.891304            408.483871          0.495165  "
      ]
     },
     "execution_count": 9,
     "metadata": {},
     "output_type": "execute_result"
    }
   ],
   "source": [
    "df_mid_status"
   ]
  },
  {
   "cell_type": "code",
   "execution_count": 10,
   "metadata": {},
   "outputs": [
    {
     "data": {
      "text/html": [
       "<div>\n",
       "<style scoped>\n",
       "    .dataframe tbody tr th:only-of-type {\n",
       "        vertical-align: middle;\n",
       "    }\n",
       "\n",
       "    .dataframe tbody tr th {\n",
       "        vertical-align: top;\n",
       "    }\n",
       "\n",
       "    .dataframe thead th {\n",
       "        text-align: right;\n",
       "    }\n",
       "</style>\n",
       "<table border=\"1\" class=\"dataframe\">\n",
       "  <thead>\n",
       "    <tr style=\"text-align: right;\">\n",
       "      <th></th>\n",
       "      <th>lecture</th>\n",
       "      <th>MilkT_speech_amt</th>\n",
       "      <th>MilkT_speech_spd</th>\n",
       "      <th>MilkT_formal_prop</th>\n",
       "      <th>MilkT_pause_length</th>\n",
       "      <th>MilkT_vol_corr</th>\n",
       "      <th>Compare_speech_amt</th>\n",
       "      <th>Compare_speech_spd</th>\n",
       "      <th>Compare_formal_prop</th>\n",
       "      <th>Compare_pause_length</th>\n",
       "      <th>Compare_vol_corr</th>\n",
       "    </tr>\n",
       "  </thead>\n",
       "  <tbody>\n",
       "    <tr>\n",
       "      <th>0</th>\n",
       "      <td>국어</td>\n",
       "      <td>11.067194</td>\n",
       "      <td>6.700736</td>\n",
       "      <td>0.885714</td>\n",
       "      <td>444.916944</td>\n",
       "      <td>0.180359</td>\n",
       "      <td>8.897070</td>\n",
       "      <td>6.725216</td>\n",
       "      <td>0.758621</td>\n",
       "      <td>413.982808</td>\n",
       "      <td>0.281251</td>\n",
       "    </tr>\n",
       "    <tr>\n",
       "      <th>1</th>\n",
       "      <td>과학</td>\n",
       "      <td>6.950880</td>\n",
       "      <td>5.607776</td>\n",
       "      <td>0.866667</td>\n",
       "      <td>500.000000</td>\n",
       "      <td>0.269381</td>\n",
       "      <td>5.245589</td>\n",
       "      <td>6.146491</td>\n",
       "      <td>0.727273</td>\n",
       "      <td>451.257485</td>\n",
       "      <td>0.381762</td>\n",
       "    </tr>\n",
       "    <tr>\n",
       "      <th>2</th>\n",
       "      <td>수학</td>\n",
       "      <td>5.958055</td>\n",
       "      <td>5.965700</td>\n",
       "      <td>0.800000</td>\n",
       "      <td>395.114754</td>\n",
       "      <td>0.343600</td>\n",
       "      <td>11.010617</td>\n",
       "      <td>5.731652</td>\n",
       "      <td>0.910714</td>\n",
       "      <td>463.655914</td>\n",
       "      <td>0.378360</td>\n",
       "    </tr>\n",
       "  </tbody>\n",
       "</table>\n",
       "</div>"
      ],
      "text/plain": [
       "  lecture  MilkT_speech_amt  MilkT_speech_spd  MilkT_formal_prop  \\\n",
       "0      국어         11.067194          6.700736           0.885714   \n",
       "1      과학          6.950880          5.607776           0.866667   \n",
       "2      수학          5.958055          5.965700           0.800000   \n",
       "\n",
       "   MilkT_pause_length  MilkT_vol_corr  Compare_speech_amt  Compare_speech_spd  \\\n",
       "0          444.916944        0.180359            8.897070            6.725216   \n",
       "1          500.000000        0.269381            5.245589            6.146491   \n",
       "2          395.114754        0.343600           11.010617            5.731652   \n",
       "\n",
       "   Compare_formal_prop  Compare_pause_length  Compare_vol_corr  \n",
       "0             0.758621            413.982808          0.281251  \n",
       "1             0.727273            451.257485          0.381762  \n",
       "2             0.910714            463.655914          0.378360  "
      ]
     },
     "execution_count": 10,
     "metadata": {},
     "output_type": "execute_result"
    }
   ],
   "source": [
    "df_ele_status"
   ]
  },
  {
   "cell_type": "markdown",
   "metadata": {},
   "source": [
    "---\n",
    "### 4. Load"
   ]
  },
  {
   "cell_type": "code",
   "execution_count": 11,
   "metadata": {},
   "outputs": [
    {
     "name": "stdout",
     "output_type": "stream",
     "text": [
      "Load completed\n"
     ]
    }
   ],
   "source": [
    "rdb_pandas_loader(\n",
    "    db_connector = DBConnector(**DB_info[\"localhost_rdb_target\"]),\n",
    "    _name = \"results\",\n",
    "    df = df_mid_status\n",
    ")"
   ]
  },
  {
   "cell_type": "code",
   "execution_count": 12,
   "metadata": {},
   "outputs": [],
   "source": [
    "df_mid_status = rdb_pandas_extractor(\n",
    "    db_connector = DBConnector(**DB_info[\"localhost_rdb_target\"]),\n",
    "    _query = query[\"select\"][\"results\"]\n",
    ")"
   ]
  },
  {
   "cell_type": "code",
   "execution_count": 13,
   "metadata": {},
   "outputs": [
    {
     "data": {
      "text/html": [
       "<div>\n",
       "<style scoped>\n",
       "    .dataframe tbody tr th:only-of-type {\n",
       "        vertical-align: middle;\n",
       "    }\n",
       "\n",
       "    .dataframe tbody tr th {\n",
       "        vertical-align: top;\n",
       "    }\n",
       "\n",
       "    .dataframe thead th {\n",
       "        text-align: right;\n",
       "    }\n",
       "</style>\n",
       "<table border=\"1\" class=\"dataframe\">\n",
       "  <thead>\n",
       "    <tr style=\"text-align: right;\">\n",
       "      <th></th>\n",
       "      <th>lecture</th>\n",
       "      <th>MilkT_speech_amt</th>\n",
       "      <th>MilkT_speech_spd</th>\n",
       "      <th>MilkT_formal_prop</th>\n",
       "      <th>MilkT_pause_length</th>\n",
       "      <th>MilkT_vol_corr</th>\n",
       "      <th>Compare_speech_amt</th>\n",
       "      <th>Compare_speech_spd</th>\n",
       "      <th>Compare_formal_prop</th>\n",
       "      <th>Compare_pause_length</th>\n",
       "      <th>Compare_vol_corr</th>\n",
       "    </tr>\n",
       "  </thead>\n",
       "  <tbody>\n",
       "    <tr>\n",
       "      <th>0</th>\n",
       "      <td>과학</td>\n",
       "      <td>7.319113</td>\n",
       "      <td>6.309032</td>\n",
       "      <td>0.857143</td>\n",
       "      <td>445.859729</td>\n",
       "      <td>0.371204</td>\n",
       "      <td>9.521920</td>\n",
       "      <td>7.733328</td>\n",
       "      <td>0.500000</td>\n",
       "      <td>364.615385</td>\n",
       "      <td>0.535215</td>\n",
       "    </tr>\n",
       "    <tr>\n",
       "      <th>1</th>\n",
       "      <td>국어</td>\n",
       "      <td>11.086913</td>\n",
       "      <td>5.660231</td>\n",
       "      <td>0.910714</td>\n",
       "      <td>513.644252</td>\n",
       "      <td>0.422222</td>\n",
       "      <td>10.562218</td>\n",
       "      <td>6.058137</td>\n",
       "      <td>0.833333</td>\n",
       "      <td>483.029703</td>\n",
       "      <td>0.327992</td>\n",
       "    </tr>\n",
       "    <tr>\n",
       "      <th>2</th>\n",
       "      <td>사회</td>\n",
       "      <td>11.773064</td>\n",
       "      <td>6.239173</td>\n",
       "      <td>0.896552</td>\n",
       "      <td>463.913043</td>\n",
       "      <td>0.004932</td>\n",
       "      <td>6.379277</td>\n",
       "      <td>7.018284</td>\n",
       "      <td>0.727273</td>\n",
       "      <td>423.362069</td>\n",
       "      <td>0.256102</td>\n",
       "    </tr>\n",
       "    <tr>\n",
       "      <th>3</th>\n",
       "      <td>수학</td>\n",
       "      <td>14.449985</td>\n",
       "      <td>5.806441</td>\n",
       "      <td>0.901408</td>\n",
       "      <td>473.250000</td>\n",
       "      <td>0.198515</td>\n",
       "      <td>9.935742</td>\n",
       "      <td>6.833984</td>\n",
       "      <td>0.826087</td>\n",
       "      <td>394.219235</td>\n",
       "      <td>0.403711</td>\n",
       "    </tr>\n",
       "    <tr>\n",
       "      <th>4</th>\n",
       "      <td>영어</td>\n",
       "      <td>13.587508</td>\n",
       "      <td>6.381560</td>\n",
       "      <td>0.761194</td>\n",
       "      <td>428.375912</td>\n",
       "      <td>0.256206</td>\n",
       "      <td>9.685230</td>\n",
       "      <td>6.353318</td>\n",
       "      <td>0.891304</td>\n",
       "      <td>408.483871</td>\n",
       "      <td>0.495165</td>\n",
       "    </tr>\n",
       "  </tbody>\n",
       "</table>\n",
       "</div>"
      ],
      "text/plain": [
       "  lecture  MilkT_speech_amt  MilkT_speech_spd  MilkT_formal_prop  \\\n",
       "0      과학          7.319113          6.309032           0.857143   \n",
       "1      국어         11.086913          5.660231           0.910714   \n",
       "2      사회         11.773064          6.239173           0.896552   \n",
       "3      수학         14.449985          5.806441           0.901408   \n",
       "4      영어         13.587508          6.381560           0.761194   \n",
       "\n",
       "   MilkT_pause_length  MilkT_vol_corr  Compare_speech_amt  Compare_speech_spd  \\\n",
       "0          445.859729        0.371204            9.521920            7.733328   \n",
       "1          513.644252        0.422222           10.562218            6.058137   \n",
       "2          463.913043        0.004932            6.379277            7.018284   \n",
       "3          473.250000        0.198515            9.935742            6.833984   \n",
       "4          428.375912        0.256206            9.685230            6.353318   \n",
       "\n",
       "   Compare_formal_prop  Compare_pause_length  Compare_vol_corr  \n",
       "0             0.500000            364.615385          0.535215  \n",
       "1             0.833333            483.029703          0.327992  \n",
       "2             0.727273            423.362069          0.256102  \n",
       "3             0.826087            394.219235          0.403711  \n",
       "4             0.891304            408.483871          0.495165  "
      ]
     },
     "execution_count": 13,
     "metadata": {},
     "output_type": "execute_result"
    }
   ],
   "source": [
    "df_mid_status"
   ]
  },
  {
   "cell_type": "code",
   "execution_count": null,
   "metadata": {},
   "outputs": [],
   "source": []
  },
  {
   "cell_type": "code",
   "execution_count": null,
   "metadata": {},
   "outputs": [],
   "source": []
  },
  {
   "cell_type": "markdown",
   "metadata": {},
   "source": [
    "---\n",
    "### 4. Plot results"
   ]
  },
  {
   "cell_type": "code",
   "execution_count": 8,
   "metadata": {},
   "outputs": [
    {
     "data": {
      "image/png": "[encoded data removed]",
      "text/plain": [
       "<Figure size 1000x500 with 2 Axes>"
      ]
     },
     "metadata": {},
     "output_type": "display_data"
    }
   ],
   "source": [
    "speech_status.plot_speech_info(df_mid_status)"
   ]
  },
  {
   "cell_type": "code",
   "execution_count": 9,
   "metadata": {},
   "outputs": [
    {
     "data": {
      "image/png": "[encoded data removed]",
      "text/plain": [
       "<Figure size 1000x500 with 2 Axes>"
      ]
     },
     "metadata": {},
     "output_type": "display_data"
    }
   ],
   "source": [
    "speech_status.plot_speech_info(df_ele_status)"
   ]
  },
  {
   "cell_type": "code",
   "execution_count": 10,
   "metadata": {},
   "outputs": [
    {
     "data": {
      "image/png": "[encoded data removed]",
      "text/plain": [
       "<Figure size 1000x500 with 1 Axes>"
      ]
     },
     "metadata": {},
     "output_type": "display_data"
    }
   ],
   "source": [
    "formal_status.plot_formal_info(df_mid_status)"
   ]
  },
  {
   "cell_type": "code",
   "execution_count": 11,
   "metadata": {},
   "outputs": [
    {
     "data": {
      "image/png": "[encoded data removed]",
      "text/plain": [
       "<Figure size 1000x500 with 1 Axes>"
      ]
     },
     "metadata": {},
     "output_type": "display_data"
    }
   ],
   "source": [
    "formal_status.plot_formal_info(df_ele_status)"
   ]
  },
  {
   "cell_type": "code",
   "execution_count": null,
   "metadata": {},
   "outputs": [],
   "source": []
  },
  {
   "cell_type": "code",
   "execution_count": null,
   "metadata": {},
   "outputs": [],
   "source": []
  },
  {
   "cell_type": "code",
   "execution_count": null,
   "metadata": {},
   "outputs": [],
   "source": [
    "def get_pitch_change(df):   \n",
    "    new_df = df.copy()\n",
    "    unique_lecs = new_df[\"lecture\"].unique()\n",
    "\n",
    "    pitch_change = []\n",
    "    for lec in unique_lecs:\n",
    "        pitch_avg = new_df[new_df[\"lecture\"] == lec][\"pitch_avg\"]\n",
    "        gamma = np.insert(np.diff(pitch_avg), 0, 0).tolist()\n",
    "        pitch_change.append(gamma)\n",
    "\n",
    "    new_df[\"pitch_change\"] = np.abs(list(itertools.chain(*pitch_change)))\n",
    "    \n",
    "    return new_df"
   ]
  },
  {
   "cell_type": "code",
   "execution_count": null,
   "metadata": {},
   "outputs": [
    {
     "data": {
      "text/html": [
       "<div>\n",
       "<style scoped>\n",
       "    .dataframe tbody tr th:only-of-type {\n",
       "        vertical-align: middle;\n",
       "    }\n",
       "\n",
       "    .dataframe tbody tr th {\n",
       "        vertical-align: top;\n",
       "    }\n",
       "\n",
       "    .dataframe thead th {\n",
       "        text-align: right;\n",
       "    }\n",
       "</style>\n",
       "<table border=\"1\" class=\"dataframe\">\n",
       "  <thead>\n",
       "    <tr style=\"text-align: right;\">\n",
       "      <th></th>\n",
       "      <th>lecture</th>\n",
       "      <th>word</th>\n",
       "      <th>time_start</th>\n",
       "      <th>time_end</th>\n",
       "      <th>size</th>\n",
       "      <th>pitch_avg</th>\n",
       "      <th>pitch_change</th>\n",
       "    </tr>\n",
       "  </thead>\n",
       "  <tbody>\n",
       "    <tr>\n",
       "      <th>1</th>\n",
       "      <td>중학_밀크티_과학</td>\n",
       "      <td>과연</td>\n",
       "      <td>14280</td>\n",
       "      <td>14760</td>\n",
       "      <td>2482.490</td>\n",
       "      <td>261.78</td>\n",
       "      <td>0.00</td>\n",
       "    </tr>\n",
       "    <tr>\n",
       "      <th>3</th>\n",
       "      <td>중학_밀크티_과학</td>\n",
       "      <td>이</td>\n",
       "      <td>15090</td>\n",
       "      <td>15240</td>\n",
       "      <td>941.479</td>\n",
       "      <td>165.96</td>\n",
       "      <td>95.82</td>\n",
       "    </tr>\n",
       "    <tr>\n",
       "      <th>4</th>\n",
       "      <td>중학_밀크티_과학</td>\n",
       "      <td>디엔에이는</td>\n",
       "      <td>15240</td>\n",
       "      <td>16140</td>\n",
       "      <td>1982.640</td>\n",
       "      <td>228.65</td>\n",
       "      <td>62.69</td>\n",
       "    </tr>\n",
       "    <tr>\n",
       "      <th>6</th>\n",
       "      <td>중학_밀크티_과학</td>\n",
       "      <td>어디</td>\n",
       "      <td>16230</td>\n",
       "      <td>16560</td>\n",
       "      <td>1897.880</td>\n",
       "      <td>168.93</td>\n",
       "      <td>59.72</td>\n",
       "    </tr>\n",
       "    <tr>\n",
       "      <th>7</th>\n",
       "      <td>중학_밀크티_과학</td>\n",
       "      <td>있을까요</td>\n",
       "      <td>16560</td>\n",
       "      <td>17130</td>\n",
       "      <td>2221.390</td>\n",
       "      <td>136.43</td>\n",
       "      <td>32.50</td>\n",
       "    </tr>\n",
       "  </tbody>\n",
       "</table>\n",
       "</div>"
      ],
      "text/plain": [
       "     lecture   word  time_start  time_end      size  pitch_avg  pitch_change\n",
       "1  중학_밀크티_과학     과연       14280     14760  2482.490     261.78          0.00\n",
       "3  중학_밀크티_과학      이       15090     15240   941.479     165.96         95.82\n",
       "4  중학_밀크티_과학  디엔에이는       15240     16140  1982.640     228.65         62.69\n",
       "6  중학_밀크티_과학     어디       16230     16560  1897.880     168.93         59.72\n",
       "7  중학_밀크티_과학   있을까요       16560     17130  2221.390     136.43         32.50"
      ]
     },
     "execution_count": 11,
     "metadata": {},
     "output_type": "execute_result"
    }
   ],
   "source": [
    "df_wo_eps_new = get_pitch_change(df_wo_eps)\n",
    "df_wo_eps_new.head()"
   ]
  },
  {
   "cell_type": "code",
   "execution_count": null,
   "metadata": {},
   "outputs": [],
   "source": []
  },
  {
   "cell_type": "code",
   "execution_count": null,
   "metadata": {},
   "outputs": [],
   "source": []
  },
  {
   "cell_type": "code",
   "execution_count": null,
   "metadata": {},
   "outputs": [],
   "source": []
  },
  {
   "cell_type": "code",
   "execution_count": null,
   "metadata": {},
   "outputs": [],
   "source": []
  },
  {
   "cell_type": "code",
   "execution_count": null,
   "metadata": {},
   "outputs": [],
   "source": []
  },
  {
   "cell_type": "code",
   "execution_count": null,
   "metadata": {},
   "outputs": [],
   "source": []
  },
  {
   "cell_type": "code",
   "execution_count": null,
   "metadata": {},
   "outputs": [],
   "source": []
  },
  {
   "cell_type": "code",
   "execution_count": null,
   "metadata": {},
   "outputs": [],
   "source": []
  },
  {
   "cell_type": "code",
   "execution_count": null,
   "metadata": {},
   "outputs": [],
   "source": []
  },
  {
   "cell_type": "code",
   "execution_count": null,
   "metadata": {},
   "outputs": [],
   "source": []
  },
  {
   "cell_type": "code",
   "execution_count": null,
   "metadata": {},
   "outputs": [],
   "source": []
  },
  {
   "cell_type": "code",
   "execution_count": null,
   "metadata": {},
   "outputs": [],
   "source": []
  },
  {
   "cell_type": "code",
   "execution_count": null,
   "metadata": {},
   "outputs": [],
   "source": []
  },
  {
   "cell_type": "code",
   "execution_count": null,
   "metadata": {},
   "outputs": [],
   "source": []
  },
  {
   "cell_type": "code",
   "execution_count": null,
   "metadata": {},
   "outputs": [],
   "source": []
  },
  {
   "cell_type": "code",
   "execution_count": null,
   "metadata": {},
   "outputs": [],
   "source": []
  },
  {
   "cell_type": "code",
   "execution_count": null,
   "metadata": {},
   "outputs": [],
   "source": []
  },
  {
   "cell_type": "code",
   "execution_count": null,
   "metadata": {},
   "outputs": [],
   "source": []
  },
  {
   "cell_type": "code",
   "execution_count": null,
   "metadata": {},
   "outputs": [],
   "source": []
  },
  {
   "cell_type": "code",
   "execution_count": null,
   "metadata": {},
   "outputs": [],
   "source": []
  },
  {
   "cell_type": "code",
   "execution_count": null,
   "metadata": {},
   "outputs": [],
   "source": []
  },
  {
   "cell_type": "code",
   "execution_count": null,
   "metadata": {},
   "outputs": [],
   "source": []
  },
  {
   "cell_type": "code",
   "execution_count": null,
   "metadata": {},
   "outputs": [],
   "source": []
  },
  {
   "cell_type": "code",
   "execution_count": null,
   "metadata": {},
   "outputs": [],
   "source": []
  },
  {
   "cell_type": "code",
   "execution_count": null,
   "metadata": {},
   "outputs": [],
   "source": []
  },
  {
   "cell_type": "code",
   "execution_count": null,
   "metadata": {},
   "outputs": [],
   "source": []
  },
  {
   "cell_type": "code",
   "execution_count": null,
   "metadata": {},
   "outputs": [],
   "source": []
  },
  {
   "cell_type": "code",
   "execution_count": null,
   "metadata": {},
   "outputs": [],
   "source": []
  },
  {
   "cell_type": "code",
   "execution_count": null,
   "metadata": {},
   "outputs": [],
   "source": []
  },
  {
   "cell_type": "code",
   "execution_count": null,
   "metadata": {},
   "outputs": [],
   "source": []
  },
  {
   "cell_type": "code",
   "execution_count": null,
   "metadata": {},
   "outputs": [],
   "source": []
  },
  {
   "cell_type": "code",
   "execution_count": null,
   "metadata": {},
   "outputs": [],
   "source": []
  },
  {
   "cell_type": "code",
   "execution_count": null,
   "metadata": {},
   "outputs": [],
   "source": []
  },
  {
   "cell_type": "code",
   "execution_count": null,
   "metadata": {},
   "outputs": [],
   "source": []
  },
  {
   "cell_type": "code",
   "execution_count": null,
   "metadata": {},
   "outputs": [],
   "source": []
  },
  {
   "cell_type": "code",
   "execution_count": null,
   "metadata": {},
   "outputs": [],
   "source": []
  },
  {
   "cell_type": "code",
   "execution_count": null,
   "metadata": {},
   "outputs": [],
   "source": []
  },
  {
   "cell_type": "code",
   "execution_count": null,
   "metadata": {},
   "outputs": [],
   "source": []
  },
  {
   "cell_type": "code",
   "execution_count": null,
   "metadata": {},
   "outputs": [],
   "source": []
  },
  {
   "cell_type": "code",
   "execution_count": null,
   "metadata": {},
   "outputs": [],
   "source": []
  },
  {
   "cell_type": "code",
   "execution_count": null,
   "metadata": {},
   "outputs": [],
   "source": []
  },
  {
   "cell_type": "code",
   "execution_count": null,
   "metadata": {},
   "outputs": [],
   "source": []
  }
 ],
 "metadata": {
  "kernelspec": {
   "display_name": "venv",
   "language": "python",
   "name": "python3"
  },
  "language_info": {
   "codemirror_mode": {
    "name": "ipython",
    "version": 3
   },
   "file_extension": ".py",
   "mimetype": "text/x-python",
   "name": "python",
   "nbconvert_exporter": "python",
   "pygments_lexer": "ipython3",
   "version": "3.10.11"
  },
  "orig_nbformat": 4
 },
 "nbformat": 4,
 "nbformat_minor": 2
}
